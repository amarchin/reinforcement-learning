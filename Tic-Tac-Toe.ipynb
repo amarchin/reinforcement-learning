{
 "cells": [
  {
   "cell_type": "code",
   "execution_count": 1,
   "metadata": {
    "collapsed": true
   },
   "outputs": [],
   "source": [
    "from __future__ import print_function\n",
    "import StringIO\n",
    "import random"
   ]
  },
  {
   "cell_type": "code",
   "execution_count": 2,
   "metadata": {
    "collapsed": true
   },
   "outputs": [],
   "source": [
    "class Player:\n",
    "    \n",
    "    def __init__(self, name, symbol, strategy):\n",
    "        self._name = name\n",
    "        self._symbol = symbol\n",
    "        self._strategy = strategy\n",
    "    \n",
    "    def choose(self, board):\n",
    "        return self._strategy.next_move(board=board)\n",
    "    \n",
    "    def symbol(self):\n",
    "        return self._symbol\n",
    "    \n",
    "    def name(self):\n",
    "        return self._name\n",
    "    \n",
    "    def __eq__(self, other):\n",
    "        return other is not None and self._name == other._name and self._symbol == other._symbol\n",
    "    \n",
    "    def __hash__(self):\n",
    "        return hash((self._name, self._symbol))\n",
    "    \n",
    "    def __repr__(self):\n",
    "        return \"{} ({})\".format(self._name, self._symbol)"
   ]
  },
  {
   "cell_type": "code",
   "execution_count": 3,
   "metadata": {
    "collapsed": true
   },
   "outputs": [],
   "source": [
    "class Board:\n",
    "    \n",
    "    _EMPTY_SYMBOL = ' '\n",
    "    _ROWS = 3\n",
    "    _COLUMNS = 3\n",
    "    _SIZE = _ROWS * _COLUMNS\n",
    "    \n",
    "    def __init__(self):\n",
    "        self._board = [self._EMPTY_SYMBOL] * self._SIZE\n",
    "    \n",
    "    def __repr__(self):\n",
    "        return ''.join([\" {} {}\".format(self._board[i], self._repr_board(i)) for i in range(self._SIZE)])\n",
    "    \n",
    "    def _repr_board(self, i):\n",
    "        return \"|\" if i % 3 != 2 else \"\\n{}\\n\".format(\"-\" * (self._SIZE + 2) if i /3 != 2 else \"\")\n",
    "        \n",
    "    def update(self, row, col, player):\n",
    "        self._board[row * self._ROWS + col] = player.symbol()\n",
    "    \n",
    "    def check_coordinate(self, row, col):\n",
    "        return self._board[row * self._ROWS + col]\n",
    "        \n",
    "    def free_coordinates(self):\n",
    "        return [(i / 3, i % 3) for i in range(self._SIZE) if self._board[i] == self._EMPTY_SYMBOL]\n",
    "        \n",
    "    def is_empty(self):\n",
    "        return len(self.free_coordinates()) == self._SIZE\n",
    "    \n",
    "    def is_full(self):\n",
    "        return len(self.free_coordinates()) == 0\n",
    "    \n",
    "    def __eq__(self, other):\n",
    "        return self._board == other._board\n",
    "    \n",
    "    def __hash__(self):\n",
    "        return hash(''.join(self._board))\n",
    "    \n",
    "    def show(self):\n",
    "        print(self.__repr__())\n",
    "        \n",
    "    def clone(self):\n",
    "        clone = Board()\n",
    "        clone._board = [self._board[i] for i in range(self._SIZE)]\n",
    "        return clone"
   ]
  },
  {
   "cell_type": "code",
   "execution_count": 4,
   "metadata": {
    "collapsed": true
   },
   "outputs": [],
   "source": [
    "class RandomStrategy:\n",
    "\n",
    "    def next_move(self, board):\n",
    "        free_coordinates = board.free_coordinates()\n",
    "        return free_coordinates[random.randint(0, len(free_coordinates) - 1)] if len(free_coordinates) > 0 else None"
   ]
  },
  {
   "cell_type": "code",
   "execution_count": 5,
   "metadata": {
    "collapsed": true
   },
   "outputs": [],
   "source": [
    "class HumanStrategy:\n",
    "\n",
    "    def next_move(self, board):\n",
    "        choice_str = raw_input(\"Your turn (ex: 1,2)>\")\n",
    "        coordinates_str = choice_str.split(\",\")\n",
    "        return tuple(map(int, coordinates_str))"
   ]
  },
  {
   "cell_type": "code",
   "execution_count": 6,
   "metadata": {
    "collapsed": true
   },
   "outputs": [],
   "source": [
    "class TicTacToeState:\n",
    "    \n",
    "    def __init__(self, board, reward):\n",
    "        self._board = board\n",
    "        self._reward = reward\n",
    "        self._previous = []\n",
    "        self._next = []\n",
    "    \n",
    "    def board(self):\n",
    "        return self._board\n",
    "    \n",
    "    def reward(self):\n",
    "        return self._reward\n",
    "    \n",
    "    def next_states(self):\n",
    "        return self._next\n",
    "    \n",
    "    def update_reward(self, new_reward):\n",
    "        self._reward = new_reward\n",
    "    \n",
    "    def add_next_state(self, state):\n",
    "        self._next.append(state)\n",
    "    \n",
    "    def add_previous_state(self, state):\n",
    "        self._previous.append(state)"
   ]
  },
  {
   "cell_type": "code",
   "execution_count": 7,
   "metadata": {
    "collapsed": true
   },
   "outputs": [],
   "source": [
    "class ResultChecker:\n",
    "    \n",
    "    def __init__(self, player_1, player_2):\n",
    "        self._player_1 = player_1\n",
    "        self._player_2 = player_2\n",
    "    \n",
    "    def check_winner(self, board):\n",
    "        rows = {i: [] for i in range(3)}\n",
    "        cols = {i: [] for i in range(3)}\n",
    "        diag = []\n",
    "        rdiag = []\n",
    "        \n",
    "        for i in range(9):\n",
    "            row = i / 3\n",
    "            col = i % 3\n",
    "            rows[row].append(board.check_coordinate(row, col))\n",
    "            cols[col].append(board.check_coordinate(row, col))\n",
    "            if row == col:\n",
    "                diag.append(board.check_coordinate(row, col))\n",
    "            if row + col == 2:\n",
    "                rdiag.append(board.check_coordinate(row, col))\n",
    "        \n",
    "        for candidate in rows.values() + cols.values() + [diag, rdiag]:\n",
    "            for player in [self._player_1, self._player_2]:\n",
    "                if candidate == [player.symbol()] * 3:\n",
    "                    return player\n",
    "                \n",
    "        return None"
   ]
  },
  {
   "cell_type": "code",
   "execution_count": 10,
   "metadata": {
    "collapsed": true
   },
   "outputs": [],
   "source": [
    "class ReinforcementLearningStrategy:\n",
    "    \n",
    "    def __init__(self, explore=0.15, alpha=0.06):\n",
    "        self._explore = explore\n",
    "        self._alpha = alpha\n",
    "        self._state_map = dict()\n",
    "        self._choices = []\n",
    "        self._target_player = None\n",
    "        \n",
    "    def new_match(self):\n",
    "        self._choices = []\n",
    "\n",
    "    def generate_all_states(self, player_1, player_2, target_player):\n",
    "        self._target_player = target_player\n",
    "        result_checker = ResultChecker(player_1, player_2)\n",
    "        \n",
    "        initial_state = TicTacToeState(board=Board(), reward=0)\n",
    "        self._state_map[initial_state.board()] = initial_state\n",
    "        stack = [(initial_state, player_1), (initial_state, player_2)]\n",
    "        \n",
    "        while len(stack) > 0:            \n",
    "            cur_state, cur_player = stack.pop()\n",
    "            cur_board = cur_state.board()\n",
    "            \n",
    "            if result_checker.check_winner(cur_board):\n",
    "                continue\n",
    "            \n",
    "            for row, col in cur_board.free_coordinates():\n",
    "                new_board = cur_board.clone()\n",
    "                new_board.update(row, col, cur_player)\n",
    "                \n",
    "                new_state = None\n",
    "                \n",
    "                if new_board in self._state_map:\n",
    "                    new_state = self._state_map[new_board]\n",
    "                else:\n",
    "                    winner = result_checker.check_winner(new_board)\n",
    "                    \n",
    "                    if winner == target_player:\n",
    "                        reward = 1.0\n",
    "                    elif winner is not None: # Player 2 won\n",
    "                        reward = 0.0\n",
    "                    elif len(new_board.free_coordinates()) == 0: # tie\n",
    "                        reward = 0.0\n",
    "                    else:\n",
    "                        reward = 0.5\n",
    "                        \n",
    "                    new_state = TicTacToeState(board=new_board, reward=reward)\n",
    "                    self._state_map[new_state.board()] = new_state\n",
    "                    \n",
    "                new_state.add_previous_state(cur_state)\n",
    "                cur_state.add_next_state(new_state)                \n",
    "                stack.append((new_state, player_1 if cur_player != player_1 else player_2))\n",
    "                \n",
    "    def next_move(self, board):\n",
    "        next_state, to_update = self._chose_next_state(board)\n",
    "        \n",
    "        if len(self._choices) > 0 and to_update:\n",
    "            self._update_reward(prev_state=self._choices[-1], next_state=next_state)\n",
    "            \n",
    "        self._choices.append(next_state)\n",
    "        chosen_move = set(board.free_coordinates()) - set(next_state.board().free_coordinates())\n",
    "        return chosen_move.pop() if len(chosen_move) > 0 else None\n",
    "        \n",
    "    \n",
    "    def _chose_next_state(self, board):\n",
    "        free_coordinates = board.free_coordinates()\n",
    "        cur_state = self._state_map[board]\n",
    "        \n",
    "        if len(free_coordinates) == 0 or len(cur_state.next_states()) == 0:\n",
    "            return cur_state, True\n",
    "        elif random.random() < self._explore: # Exploring\n",
    "            choice = free_coordinates[random.randint(0, len(free_coordinates) - 1)]\n",
    "            new_board = board.clone()\n",
    "            new_board.update(choice[0], choice[1], self._target_player)\n",
    "            return self._state_map[new_board], False\n",
    "        else: # Exploiting\n",
    "            state_with_max_reward = max(cur_state.next_states(), key=lambda s: s.reward())\n",
    "            return state_with_max_reward, True\n",
    "    \n",
    "    def _update_reward(self, prev_state, next_state):\n",
    "        new_reward = prev_state.reward() + self._alpha * (next_state.reward() - prev_state.reward())\n",
    "        # print(\"Updating reward from {} to: {}\".format(prev_state.reward(), new_reward))\n",
    "        prev_state.update_reward(new_reward)"
   ]
  },
  {
   "cell_type": "code",
   "execution_count": 11,
   "metadata": {
    "collapsed": true
   },
   "outputs": [],
   "source": [
    "class Match:\n",
    "    \n",
    "    def __init__(self, board, player_1, player_2):\n",
    "        self._board = board\n",
    "        self._player_1 = player_1\n",
    "        self._player_2 = player_2\n",
    "        self._result_checker = ResultChecker(player_1, player_2)\n",
    "    \n",
    "    def play(self, show=True):\n",
    "        \n",
    "        if not self._board.is_empty():\n",
    "            raise Exception(\"Board is not empty!\\n{}\".format(self._board))\n",
    "        \n",
    "        cur_player = self._select_first_player(show)\n",
    "        while not self._board.is_full():\n",
    "            choise = cur_player.choose(board=board)\n",
    "            if show:\n",
    "                print(\"Player {} ({}) has chosen {}\".format(cur_player.name(), cur_player.symbol(), choise))\n",
    "            self._board.update(choise[0], choise[1], cur_player)\n",
    "            if show:\n",
    "                self._board.show()\n",
    "            winner = self._result_checker.check_winner(self._board)\n",
    "            if winner:\n",
    "                break\n",
    "            cur_player = self._player_1 if cur_player == self._player_2 else self._player_2\n",
    "        \n",
    "        winner = self._result_checker.check_winner(self._board)\n",
    "        if winner:\n",
    "            if show:\n",
    "                print(\"Player {} ({}) won the game! :) \".format(winner.name(), winner.symbol()))\n",
    "        else:\n",
    "            if show:\n",
    "                print(\"It's a tie :D\")\n",
    "        \n",
    "        player_1.choose(board=board)\n",
    "        player_2.choose(board=board)\n",
    "        return winner\n",
    "    \n",
    "    def _select_first_player(self, show):\n",
    "        if show:\n",
    "            print(\"Flipping a coin to decide which player will start the match...\")\n",
    "        first_player = self._player_1 if random.randint(0, 1) == 0 else self._player_2\n",
    "        if show:\n",
    "            print(\"{} will start the game\".format(first_player.name()))\n",
    "        return first_player\n",
    "    "
   ]
  },
  {
   "cell_type": "code",
   "execution_count": 12,
   "metadata": {
    "collapsed": true
   },
   "outputs": [],
   "source": [
    "rls_1 = ReinforcementLearningStrategy(explore=0.30, alpha=0.05)\n",
    "rls_2 = ReinforcementLearningStrategy(explore=0.40, alpha=0.10)"
   ]
  },
  {
   "cell_type": "code",
   "execution_count": 13,
   "metadata": {
    "collapsed": true
   },
   "outputs": [],
   "source": [
    "player_1 = Player(name='first', symbol='X', strategy=rls_1)\n",
    "player_2 = Player(name='second', symbol='O', strategy=rls_2)"
   ]
  },
  {
   "cell_type": "code",
   "execution_count": 14,
   "metadata": {},
   "outputs": [
    {
     "name": "stdout",
     "output_type": "stream",
     "text": [
      "CPU times: user 50 s, sys: 200 ms, total: 50.2 s\n",
      "Wall time: 50.2 s\n"
     ]
    }
   ],
   "source": [
    "time rls_1.generate_all_states(player_1=player_1, player_2=player_2, target_player=player_1)"
   ]
  },
  {
   "cell_type": "code",
   "execution_count": 15,
   "metadata": {},
   "outputs": [
    {
     "name": "stdout",
     "output_type": "stream",
     "text": [
      "CPU times: user 50.5 s, sys: 201 ms, total: 50.7 s\n",
      "Wall time: 50.7 s\n"
     ]
    }
   ],
   "source": [
    "time rls_2.generate_all_states(player_1=player_1, player_2=player_2, target_player=player_2)"
   ]
  },
  {
   "cell_type": "code",
   "execution_count": 16,
   "metadata": {},
   "outputs": [
    {
     "data": {
      "text/plain": [
       "8533"
      ]
     },
     "execution_count": 16,
     "metadata": {},
     "output_type": "execute_result"
    }
   ],
   "source": [
    "len(rls_1._state_map)"
   ]
  },
  {
   "cell_type": "code",
   "execution_count": 32,
   "metadata": {},
   "outputs": [
    {
     "name": "stdout",
     "output_type": "stream",
     "text": [
      "MATCH: 0\n",
      "MATCH: 100000\n",
      "MATCH: 200000\n",
      "MATCH: 300000\n",
      "MATCH: 400000\n",
      "MATCH: 500000\n",
      "MATCH: 600000\n",
      "MATCH: 700000\n",
      "MATCH: 800000\n",
      "MATCH: 900000\n"
     ]
    }
   ],
   "source": [
    "matches = 1000000\n",
    "\n",
    "results = dict()\n",
    "\n",
    "for i in range(matches):\n",
    "    if i % 100000 == 0:\n",
    "        print(\"MATCH: {}\".format(i))\n",
    "    board = Board()\n",
    "    rls_1.new_match()\n",
    "    rls_2.new_match()\n",
    "    match = Match(board=board, player_1=player_1, player_2=player_2)\n",
    "    winner = match.play(show=False)\n",
    "    if winner:\n",
    "        if winner.name() not in results:\n",
    "            results[winner.name()] = 1\n",
    "        results[winner.name()] += 1"
   ]
  },
  {
   "cell_type": "code",
   "execution_count": 33,
   "metadata": {},
   "outputs": [
    {
     "data": {
      "text/plain": [
       "{'first': 530560, 'second': 405647}"
      ]
     },
     "execution_count": 33,
     "metadata": {},
     "output_type": "execute_result"
    }
   ],
   "source": [
    "results"
   ]
  },
  {
   "cell_type": "code",
   "execution_count": 34,
   "metadata": {
    "collapsed": true,
    "scrolled": false
   },
   "outputs": [],
   "source": [
    "human_player = Player(name='William', symbol='O', strategy=HumanStrategy())"
   ]
  },
  {
   "cell_type": "code",
   "execution_count": 42,
   "metadata": {
    "scrolled": false
   },
   "outputs": [
    {
     "name": "stdout",
     "output_type": "stream",
     "text": [
      "Flipping a coin to decide which player will start the match...\n",
      "first will start the game\n",
      "Player first (X) has chosen (1, 1)\n",
      "   |   |   \n",
      "-----------\n",
      "   | X |   \n",
      "-----------\n",
      "   |   |   \n",
      "\n",
      "\n",
      "Your turn (ex: 1,2)>2,1\n",
      "Player William (O) has chosen (2, 1)\n",
      "   |   |   \n",
      "-----------\n",
      "   | X |   \n",
      "-----------\n",
      "   | O |   \n",
      "\n",
      "\n",
      "Player first (X) has chosen (2, 2)\n",
      "   |   |   \n",
      "-----------\n",
      "   | X |   \n",
      "-----------\n",
      "   | O | X \n",
      "\n",
      "\n",
      "Your turn (ex: 1,2)>0,0\n",
      "Player William (O) has chosen (0, 0)\n",
      " O |   |   \n",
      "-----------\n",
      "   | X |   \n",
      "-----------\n",
      "   | O | X \n",
      "\n",
      "\n",
      "Player first (X) has chosen (1, 2)\n",
      " O |   |   \n",
      "-----------\n",
      "   | X | X \n",
      "-----------\n",
      "   | O | X \n",
      "\n",
      "\n",
      "Your turn (ex: 1,2)>0,2\n",
      "Player William (O) has chosen (0, 2)\n",
      " O |   | O \n",
      "-----------\n",
      "   | X | X \n",
      "-----------\n",
      "   | O | X \n",
      "\n",
      "\n",
      "Player first (X) has chosen (1, 0)\n",
      " O |   | O \n",
      "-----------\n",
      " X | X | X \n",
      "-----------\n",
      "   | O | X \n",
      "\n",
      "\n",
      "Player first (X) won the game! :) \n"
     ]
    },
    {
     "data": {
      "text/plain": [
       "first (X)"
      ]
     },
     "execution_count": 42,
     "metadata": {},
     "output_type": "execute_result"
    }
   ],
   "source": [
    "board = Board()\n",
    "rls_1.new_match()\n",
    "rls_2.new_match()\n",
    "match = Match(board=board, player_1=player_1, player_2=human_player)\n",
    "match.play()"
   ]
  },
  {
   "cell_type": "code",
   "execution_count": null,
   "metadata": {
    "collapsed": true
   },
   "outputs": [],
   "source": []
  },
  {
   "cell_type": "code",
   "execution_count": null,
   "metadata": {
    "collapsed": true
   },
   "outputs": [],
   "source": []
  },
  {
   "cell_type": "code",
   "execution_count": null,
   "metadata": {
    "collapsed": true
   },
   "outputs": [],
   "source": []
  },
  {
   "cell_type": "code",
   "execution_count": null,
   "metadata": {
    "collapsed": true
   },
   "outputs": [],
   "source": []
  },
  {
   "cell_type": "code",
   "execution_count": null,
   "metadata": {
    "collapsed": true
   },
   "outputs": [],
   "source": []
  },
  {
   "cell_type": "code",
   "execution_count": null,
   "metadata": {
    "collapsed": true
   },
   "outputs": [],
   "source": []
  }
 ],
 "metadata": {
  "kernelspec": {
   "display_name": "Python 3",
   "language": "python",
   "name": "python3"
  },
  "language_info": {
   "codemirror_mode": {
    "name": "ipython",
    "version": 2
   },
   "file_extension": ".py",
   "mimetype": "text/x-python",
   "name": "python",
   "nbconvert_exporter": "python",
   "pygments_lexer": "ipython2",
   "version": "2.7.13"
  }
 },
 "nbformat": 4,
 "nbformat_minor": 2
}
